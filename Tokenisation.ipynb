{
 "cells": [
  {
   "cell_type": "markdown",
   "id": "f56ae250",
   "metadata": {},
   "source": [
    "## Defining a function to tokenize a document \n",
    "\n",
    " -  Structure of the code:\n",
    "\n",
    " - Defining a function named `tokenize(doc)` as follows:\n",
    "     * Taking `doc` (a string) as an input argument\n",
    "     * Spliting `doc` into tokens by any space, including  ` `(space), `\\t` (tab), or  `\\n` (newline).\n",
    "     * Remoing all leading or trailing spaces from each token. \n",
    "     * Removing all leading or training punctuations from each token. However, it is fine to have punctuations in the middle of a token (e.g., life-saving, didn't).\n",
    "     * Removing empty tokens or tokens that have only one character (e.g. `I`) \n",
    "     * Converting all tokens into the lower case\n",
    "     * Counting the frequency of each remaining tokens. \n",
    "     * Saving the result into a dictionary to store each token and its count as a key-value pair.\n",
    "     * Returning the dictionary"
   ]
  },
  {
   "cell_type": "code",
   "execution_count": 13,
   "id": "098e9483",
   "metadata": {},
   "outputs": [],
   "source": [
    "def tokenize(doc):\n",
    "    \n",
    "    voc = {}\n",
    "        \n",
    "    # add your code here\n",
    "    v = doc.split()                               #splitting the string 'doc' and storing it in variable 'v'\n",
    "    \n",
    "    \"\"\"The output in 'v' is now a list.\n",
    "       Hence, we need to access each list element \n",
    "       separately to perform the operations for stripping\n",
    "       the spaces and punctuations.\"\"\"\n",
    "    \n",
    "    l = len(v)                                    #storing the length of v / storing no. of elements in v\n",
    "    \n",
    "    for x in range(l):               \n",
    "        \n",
    "        v[x] = v[x].strip()                      #To remove leading and trailing spaces\n",
    "        \n",
    "        v[x] = v[x].strip(string.punctuation)    #To remove the punctuations\n",
    "        \n",
    "        v[x] = v[x].lower()                      #To convert into lowercase\n",
    "    \n",
    "       \n",
    "    '''Empty spaces and one character elements are\n",
    "       both single character elements and hence only\n",
    "       one condition can be set to remove both'''\n",
    "    \n",
    "    v_new = []                                    #Initializing a new list\n",
    "    \n",
    "    for x in v:\n",
    "        if len(x)>=2:                             #To append only non-single character elements\n",
    "            v_new.append(x)\n",
    "              \n",
    "    for x in v_new:                              \n",
    "        voc[x] = v_new.count(x)                  #To count the frequency of tokens\n",
    "        \n",
    "    return voc"
   ]
  },
  {
   "cell_type": "code",
   "execution_count": 14,
   "id": "bcefc7bf",
   "metadata": {},
   "outputs": [
    {
     "name": "stdout",
     "output_type": "stream",
     "text": [
      "{'what': 1, 'investors': 1, 'don’t': 1, 'like': 1, 'is': 2, 'uncertainty': 1, 'said': 1, 'jason': 1, 'draho': 1, 'head': 1, 'of': 4, 'asset': 1, 'allocation': 1, 'americas': 1, 'at': 3, 'ubs': 1, 'global': 1, 'wealth': 1, 'management': 1, 'in': 4, 'phone': 1, 'interview': 1, 'pointing': 1, 'to': 1, 'selloff': 1, 'that’s': 1, 'left': 1, 'few': 1, 'corners': 1, 'financial': 1, 'markets': 1, 'unscathed': 1, 'january': 1, 'even': 1, 'with': 1, 'sharp': 1, 'rally': 1, 'late': 1, 'friday': 1, 'the': 2, 'interest': 1, 'rate-sensitive': 1, 'nasdaq': 1, 'composite': 1, 'index': 2, 'comp': 1, '3.13': 1, 'remained': 1, 'correction': 1, 'territory': 1, 'defined': 1, 'as': 1, 'fall': 1, 'least': 2, '10': 1, 'from': 2, 'its': 2, 'most': 1, 'recent': 1, 'record': 1, 'close': 1, 'worse': 1, 'russell': 1, '2000': 1, 'small-capitalization': 1, 'stocks': 1, 'rut': 1, '1.93': 1, 'bear': 1, 'market': 1, 'down': 1, '20': 1, 'nov': 1, 'peak': 1}\n"
     ]
    }
   ],
   "source": [
    "# the text is from https://www.marketwatch.com/story/what-to-expect-from-markets-in-the-next-six-weeks-before-the-federal-reserve-revamps-its-easy-money-stance-11643457817\n",
    "import string\n",
    "\n",
    "doc ='''\"What investors don’t like is uncertainty,\" said Jason Draho, \n",
    "        head of asset allocation Americas at UBS Global Wealth Management, \n",
    "        in a phone interview, pointing to a selloff that’s left \n",
    "        few corners of financial markets unscathed in January.\n",
    "\n",
    "        Even with a sharp rally late Friday, the interest rate-sensitive Nasdaq \n",
    "        Composite Index COMP, +3.13% remained in correction territory, defined \n",
    "        as a fall of at least 10% from its most recent record close. Worse, \n",
    "        the Russell 2000 index of small-capitalization stocks RUT, +1.93% is \n",
    "        in a bear market, down at least 20% from its Nov. 8 peak.\n",
    "    '''\n",
    "\n",
    "print(tokenize(doc))"
   ]
  }
 ],
 "metadata": {
  "kernelspec": {
   "display_name": "Python 3",
   "language": "python",
   "name": "python3"
  },
  "language_info": {
   "codemirror_mode": {
    "name": "ipython",
    "version": 3
   },
   "file_extension": ".py",
   "mimetype": "text/x-python",
   "name": "python",
   "nbconvert_exporter": "python",
   "pygments_lexer": "ipython3",
   "version": "3.8.8"
  }
 },
 "nbformat": 4,
 "nbformat_minor": 5
}
