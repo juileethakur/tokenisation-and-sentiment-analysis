{
 "cells": [
  {
   "cell_type": "markdown",
   "id": "301deb13",
   "metadata": {},
   "source": [
    "## Analyzing Document's Sentiment \n",
    "\n",
    "\n",
    " - Defining a function named `get_sentiment(doc, positives, negatives)` as follows:\n",
    "     * taking three input arguments:\n",
    "         - `doc` (a string) as an input \n",
    "         - `positives`: a list of positive words\n",
    "         - `negatives`: a list of negative words\n",
    "     * calling the function tokenize to get the token dictionary\n",
    "     * finding `unique tokens` that are within `positives` and `negatives` respectively\n",
    "     * returning the following:\n",
    "         - the positive and negative tokens found in this document\n",
    "         - an `overall sentiment score` calculated as follows:\n",
    "             - `1` if `doc` has `more` unique positive tokens than negative tokens, \n",
    "             - `0` if `doc` has an `equal` number of unique positive and negative tokens \n",
    "             - `-1` if `doc` has `less` unique positive tokens than negative tokens,\n"
   ]
  },
  {
   "cell_type": "code",
   "execution_count": 15,
   "id": "4d440146",
   "metadata": {},
   "outputs": [],
   "source": [
    "def tokenize(doc):\n",
    "    \n",
    "    voc = {}\n",
    "        \n",
    "    # add your code here\n",
    "    v = doc.split()                               #splitting the string 'doc' and storing it in variable 'v'\n",
    "    \n",
    "    \"\"\"The output in 'v' is now a list.\n",
    "       Hence, we need to access each list element \n",
    "       separately to perform the operations for stripping\n",
    "       the spaces and punctuations.\"\"\"\n",
    "    \n",
    "    l = len(v)                                    #storing the length of v / storing no. of elements in v\n",
    "    \n",
    "    for x in range(l):               \n",
    "        \n",
    "        v[x] = v[x].strip()                      #To remove leading and trailing spaces\n",
    "        \n",
    "        v[x] = v[x].strip(string.punctuation)    #To remove the punctuations\n",
    "        \n",
    "        v[x] = v[x].lower()                      #To convert into lowercase\n",
    "    \n",
    "       \n",
    "    '''Empty spaces and one character elements are\n",
    "       both single character elements and hence only\n",
    "       one condition can be set to remove both'''\n",
    "    \n",
    "    v_new = []                                    #Initializing a new list\n",
    "    \n",
    "    for x in v:\n",
    "        if len(x)>=2:                             #To append only non-single character elements\n",
    "            v_new.append(x)\n",
    "              \n",
    "    for x in v_new:                              \n",
    "        voc[x] = v_new.count(x)                  #To count the frequency of tokens\n",
    "        \n",
    "    return voc"
   ]
  },
  {
   "cell_type": "code",
   "execution_count": 16,
   "id": "5eb68516",
   "metadata": {},
   "outputs": [],
   "source": [
    "def get_sentiment(doc, positives, negatives):\n",
    "    \n",
    "    pos = []\n",
    "    neg = []\n",
    "    sentiment = None\n",
    "    \n",
    "    # add your code here\n",
    "    \n",
    "    t = tokenize(doc)\n",
    "    \n",
    "    k = t.keys()           #Storing the keys of the token dictionary\n",
    "    \n",
    "    #To make a list of positive tokens in the string\n",
    "    for x in positives:\n",
    "        if (x in k):pos.append(x)\n",
    "                   \n",
    "    #To make a list of negative tokens in the string            \n",
    "    for y in negatives:\n",
    "        if (y in k):neg.append(y)\n",
    "            \n",
    "    lp = len(pos)          #No of positive words\n",
    "    ln = len(neg)          #No of negative words\n",
    "    \n",
    "    if lp > ln:\n",
    "        sentiment = 1      #No of unique positive tokens are more\n",
    "    elif lp < ln:\n",
    "        sentiment = -1     #No of unique negative tokens are more\n",
    "    elif lp == ln:\n",
    "        sentiment = 0      #No of unique positive and negative tokens are equal\n",
    "      \n",
    "    return pos, neg, sentiment"
   ]
  },
  {
   "cell_type": "code",
   "execution_count": 17,
   "id": "20a2179a",
   "metadata": {},
   "outputs": [],
   "source": [
    "# read the list of positive/negative words\n",
    "\n",
    "positives = open(\"positive-words.txt\").read().split()\n",
    "negatives = open(\"negative-words.txt\").read().split()"
   ]
  },
  {
   "cell_type": "code",
   "execution_count": 18,
   "id": "e97efcb6",
   "metadata": {},
   "outputs": [
    {
     "data": {
      "text/plain": [
       "(['like', 'sharp'], ['fall', 'rut', 'worse'], -1)"
      ]
     },
     "execution_count": 18,
     "metadata": {},
     "output_type": "execute_result"
    }
   ],
   "source": [
    "doc ='''\"What investors don’t like is uncertainty,\" said Jason Draho, \n",
    "        head of asset allocation Americas at UBS Global Wealth Management, \n",
    "        in a phone interview, pointing to a selloff that’s left \n",
    "        few corners of financial markets unscathed in January.\n",
    "\n",
    "        Even with a sharp rally late Friday, the interest rate-sensitive Nasdaq \n",
    "        Composite Index COMP, +3.13% remained in correction territory, defined \n",
    "        as a fall of at least 10% from its most recent record close. Worse, \n",
    "        the Russell 2000 index of small-capitalization stocks RUT, +1.93% is \n",
    "        in a bear market, down at least 20% from its Nov. 8 peak.\n",
    "    '''\n",
    "\n",
    "get_sentiment(doc, positives, negatives)"
   ]
  }
 ],
 "metadata": {
  "kernelspec": {
   "display_name": "Python 3",
   "language": "python",
   "name": "python3"
  },
  "language_info": {
   "codemirror_mode": {
    "name": "ipython",
    "version": 3
   },
   "file_extension": ".py",
   "mimetype": "text/x-python",
   "name": "python",
   "nbconvert_exporter": "python",
   "pygments_lexer": "ipython3",
   "version": "3.8.8"
  }
 },
 "nbformat": 4,
 "nbformat_minor": 5
}
